{
 "cells": [
  {
   "cell_type": "code",
   "execution_count": 1,
   "metadata": {},
   "outputs": [
    {
     "data": {
      "text/plain": [
       "535-element Array{Dict{String,Any},1}:\n",
       " Dict(\"title\"=>\"-終天- [BLACK ANOTHER]\",\"level\"=>0)                                                          \n",
       " Dict(\"title\"=>\"Airetsiw [BlackAnother]\",\"level\"=>0)                                                       \n",
       " Dict(\"title\"=>\"Allie Stars [Insane]\",\"level\"=>0)                                                          \n",
       " Dict(\"title\"=>\"Blood Castle -Bloody-\",\"level\"=>0)                                                         \n",
       " Dict(\"title\"=>\"Chit-Chat [7Key Another]\",\"level\"=>0)                                                      \n",
       " Dict(\"title\"=>\"False Friend [ANOTHER]\",\"level\"=>0)                                                        \n",
       " Dict(\"title\"=>\"GAMEBOY [ANOTHER other]\",\"level\"=>0)                                                       \n",
       " Dict(\"title\"=>\"GOODWORLD [A]\",\"level\"=>0)                                                                 \n",
       " Dict(\"title\"=>\"Garefowl [Another]\",\"level\"=>0)                                                            \n",
       " Dict(\"title\"=>\"Highlander [NORETHER]\",\"level\"=>0)                                                         \n",
       " Dict(\"title\"=>\"Juliet [oath]\",\"level\"=>0)                                                                 \n",
       " Dict(\"title\"=>\"Life is PIANO [Another]\",\"level\"=>0)                                                       \n",
       " Dict(\"title\"=>\"MEJIRUSHI\",\"level\"=>0)                                                                     \n",
       " ⋮                                                                                                         \n",
       " Dict(\"title\"=>\"hemorrhoids\",\"level\"=>12)                                                                  \n",
       " Dict(\"title\"=>\"stairway to the universe [laner]\",\"level\"=>12)                                             \n",
       " Dict(\"title\"=>\"sunken azure world [マヨマヨ]\",\"level\"=>12)                                                    \n",
       " Dict(\"title\"=>\"tightrope city [taxy]\",\"level\"=>12)                                                        \n",
       " Dict(\"title\"=>\"ドキッ！けふぃーとひ・み・つｖのサッカータイム☆☆ニャホニャホしても、いいんですよ･･･？　 ～KEFIFAワールドカップ編 We love 汚滝健太郎～\",\"level\"=>12)\n",
       " Dict(\"title\"=>\"ハニエルのうた [EXTRA]\",\"level\"=>12)                                                              \n",
       " Dict(\"title\"=>\"円環の理 [ＱＢTHER]\",\"level\"=>12)                                                                \n",
       " Dict(\"title\"=>\"夢/あるいは在りし日の ［usual days'］\",\"level\"=>12)                                                    \n",
       " Dict(\"title\"=>\"星少女ステラユニオン -叛逆の物語-\",\"level\"=>12)                                                           \n",
       " Dict(\"title\"=>\"絵空事の世界と私 -aletheia-\",\"level\"=>12)                                                          \n",
       " Dict(\"title\"=>\"織姫 -EX-\",\"level\"=>12)                                                                      \n",
       " Dict(\"title\"=>\"非徘徊主義 (-ω-)\",\"level\"=>12)                                                                  "
      ]
     },
     "execution_count": 1,
     "metadata": {},
     "output_type": "execute_result"
    }
   ],
   "source": [
    "using HTTP, JSON\n",
    "slst = Dict{String,Any}()\n",
    "\n",
    "rsl = String( HTTP.request(\"GET\", \"https://lite.stellabms.xyz/score.json\").body )\n",
    "sl = JSON.parse(rsl)\n",
    "map(x -> slst[x[\"md5\"]] = Dict(\"level\" => parse(Int,x[\"level\"]), \"title\" => x[\"title\"]), sl)"
   ]
  },
  {
   "cell_type": "code",
   "execution_count": 2,
   "metadata": {},
   "outputs": [
    {
     "data": {
      "text/plain": [
       "622-element Array{Dict{String,Any},1}:\n",
       " Dict(\"title\"=>\"A D D i c T i O N 4 5 0 0 0 0 0 [INFERNO]\",\"level\"=>13)\n",
       " Dict(\"title\"=>\"Angel Wing [LEGEND]\",\"level\"=>13)                      \n",
       " Dict(\"title\"=>\"BABYLON [HARDEST]\",\"level\"=>13)                        \n",
       " Dict(\"title\"=>\"Calamity Fortune [SERPENT]\",\"level\"=>13)               \n",
       " Dict(\"title\"=>\"Chronomia [Presea]\",\"level\"=>13)                       \n",
       " Dict(\"title\"=>\"CyberGarden -Digital Butterfly-\",\"level\"=>13)          \n",
       " Dict(\"title\"=>\"DRAGONLADY (DRAGONDERAY)\",\"level\"=>13)                 \n",
       " Dict(\"title\"=>\"Elina (feat. Reislaufer) [INFERNO]\",\"level\"=>13)       \n",
       " Dict(\"title\"=>\"End Time [ALITHER]\",\"level\"=>13)                       \n",
       " Dict(\"title\"=>\"Finixe -Eclipse-\",\"level\"=>13)                         \n",
       " Dict(\"title\"=>\"GREENS 2012 [Real Dark Matter]\",\"level\"=>13)           \n",
       " Dict(\"title\"=>\"IKAROS [Q.E.D.]\",\"level\"=>13)                          \n",
       " Dict(\"title\"=>\"MIGHTY OBSTACLE\",\"level\"=>13)                          \n",
       " ⋮                                                                     \n",
       " Dict(\"title\"=>\"八大地獄邪魂転生狂葬散火歌 [亜那坐阿]\",\"level\"=>23)                     \n",
       " Dict(\"title\"=>\"多重極展開 -極-\",\"level\"=>23)                                \n",
       " Dict(\"title\"=>\"星屑アポトーシス\",\"level\"=>23)                                 \n",
       " Dict(\"title\"=>\"飛燕草\",\"level\"=>23)                                      \n",
       " Dict(\"title\"=>\"Celestial Axes [Other]\",\"level\"=>24)                   \n",
       " Dict(\"title\"=>\"Defeat awaken battle ship (SP DESTROYER)\",\"level\"=>24) \n",
       " Dict(\"title\"=>\"Dusk Recapture [AB]\",\"level\"=>24)                      \n",
       " Dict(\"title\"=>\"Glantz+\",\"level\"=>24)                                  \n",
       " Dict(\"title\"=>\"PEACE BREAKER [PURGE]\",\"level\"=>24)                    \n",
       " Dict(\"title\"=>\"Schwerkraft [Dioga Gravidon]\",\"level\"=>24)             \n",
       " Dict(\"title\"=>\"dimension block -SP CRAZY-\",\"level\"=>24)               \n",
       " Dict(\"title\"=>\"オトゲラヴ！ [初回限定版豪華三大特典付]\",\"level\"=>24)                    "
      ]
     },
     "execution_count": 2,
     "metadata": {},
     "output_type": "execute_result"
    }
   ],
   "source": [
    "rst = String( HTTP.request(\"GET\", \"https://stellabms.xyz/score.json\").body )\n",
    "st = JSON.parse(rst)\n",
    "map(x -> slst[x[\"md5\"]] = Dict(\"level\" => parse(Int,x[\"level\"])+13, \"title\" => x[\"title\"]), st)"
   ]
  },
  {
   "cell_type": "code",
   "execution_count": 3,
   "metadata": {},
   "outputs": [],
   "source": [
    "geno = Dict{String,Any}()\n",
    "\n",
    "genr = String( HTTP.request(\"GET\", \"http://walkure.net/hakkyou/for_glassist/bms/data_json.cgi?lamp=easy&min=-2.0&max=28.0&step_count=300\").body )\n",
    "genjson = JSON.parse(genr)\n",
    "for ar in genjson\n",
    "    if ar[\"level\"] == \"-\"\n",
    "        continue\n",
    "    end\n",
    "    geno[ar[\"md5\"]] = Dict(\"level\" => parse(Float64, split(ar[\"level\"],\"...\")[1]), \"title\" => ar[\"title\"])\n",
    "end\n"
   ]
  },
  {
   "cell_type": "code",
   "execution_count": 4,
   "metadata": {},
   "outputs": [
    {
     "name": "stdout",
     "output_type": "stream",
     "text": [
      "8.7 8   クロートーと星の観測者 [MANIAC]\n",
      "24.8 20   FREEDOM DiVE [FOUR DIMENSIONS]\n",
      "11.5 9   Lepontinia -THE LAST PLANET-\n",
      "25.3 21   the lost dedicated [life]\n",
      "21.2 15   INFINITE BEATS [EXHAUST]\n",
      "25.0 22   Nothingness [殺]\n",
      "24.3 19   Black Lotus [Other]\n",
      "22.6 16   重波Samba de Render\n"
     ]
    }
   ],
   "source": [
    "for (md5,v) in geno\n",
    "    if haskey(slst, md5)\n",
    "        println(v[\"level\"],\" \", slst[md5][\"level\"],\"   \", v[\"title\"])\n",
    "    end\n",
    "end"
   ]
  },
  {
   "cell_type": "code",
   "execution_count": 5,
   "metadata": {},
   "outputs": [],
   "source": [
    "convertlist = [0, 1.5, 3, 5, 7, 9, 10.7, 12.3, 14, 15.2, 16.4, 17.6, 18.8, 20, 21, 22, 22.6, 23.2, 23.6, 24, 24.4, 24.8, 25.4, 26]\n",
    "geno_to_stsl(x::Float64) = searchsortedfirst(convertlist, x) - 1\n",
    "\n",
    "geno_conv = Dict{String,Any}()\n",
    "\n",
    "for (md5,v) in geno\n",
    "    if haskey(slst, md5)\n",
    "        continue\n",
    "    end\n",
    "    geno_conv[md5] = Dict(\"title\" => v[\"title\"], \"level\" => (v[\"level\"] |> geno_to_stsl))\n",
    "end"
   ]
  },
  {
   "cell_type": "code",
   "execution_count": 7,
   "metadata": {},
   "outputs": [],
   "source": [
    "concat = merge(slst, geno_conv)\n",
    "out_integ = [merge(Dict(\"md5\" => md5), v) for (md5,v) in concat]\n",
    "(x -> x[\"level\"] = string(x[\"level\"])).(out_integ)\n",
    "\n",
    "output = open(\"integr.json\", \"w\")\n",
    "outst = JSON.json(out_integ)\n"
   ]
  },
  {
   "cell_type": "code",
   "execution_count": null,
   "metadata": {},
   "outputs": [],
   "source": []
  }
 ],
 "metadata": {
  "kernelspec": {
   "display_name": "Julia 1.0.1",
   "language": "julia",
   "name": "julia-1.0"
  },
  "language_info": {
   "file_extension": ".jl",
   "mimetype": "application/julia",
   "name": "julia",
   "version": "1.1.0"
  }
 },
 "nbformat": 4,
 "nbformat_minor": 2
}
