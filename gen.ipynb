{
 "cells": [
  {
   "cell_type": "code",
   "execution_count": 1,
   "metadata": {},
   "outputs": [
    {
     "data": {
      "text/plain": [
       "595-element Array{Dict{String,Any},1}:\n",
       " Dict(\"proposer\"=>\"monaka\",\"url_diff\"=>\"\",\"sha256\"=>\"11d7215681d70544478a02348f3787ee1c427867447db12a404903a234c7ab5b\",\"md5\"=>\"a63a3509dfb7a89c9ed9a1fcba07af87\",\"artist\"=>\"SOMON\",\"title\"=>\"-終天- [BLACK ANOTHER]\",\"submission\"=>317,\"url\"=>\"http://manbow.nothing.sh/event/event.cgi?action=More_def&num=170&event=123\",\"level\"=>\"0\")                                                                                                         \n",
       " Dict(\"proposer\"=>\"SEUNGHO_LEE\",\"url_diff\"=>\"\",\"sha256\"=>\"e0e7fd97b42178c2fbcb69754cebcd3e0fd1b5d24ba5b9716ca9341931a7be70\",\"md5\"=>\"c86923afc764b887b6e8c649146a7d98\",\"artist\"=>\"Sakamiya feat.mirina img:なのたろ\",\"title\"=>\"Airetsiw [BlackAnother]\",\"submission\"=>391,\"url\"=>\"http://manbow.nothing.sh/event/event.cgi?action=More_def&num=3&event=106\",\"level\"=>\"0\",\"comment\"=>\"微縦連\"…)                                                         \n",
       " Dict(\"proposerLr2id\"=>119448,\"level\"=>\"0\",\"url_diff\"=>\"\",\"sha256\"=>\"c4cda7b7cb99e1ad3745d85e358060a6bc6e394a40c0db0bd274545cb74f0a63\",\"comment\"=>\"Fun!\",\"md5\"=>\"a9937683ea7122cd76227b55953b38ea\",\"submission\"=>279,\"url\"=>\"http://manbow.nothing.sh/event/event.cgi?action=More_def&num=131&event=123\",\"proposer\"=>\"CATHERINE\",\"artist\"=>\"Hazel-D\"…)                                                                                         \n",
       " Dict(\"proposerLr2id\"=>93763,\"level\"=>\"0\",\"url_diff\"=>\"http://gnqg.rosx.net/upload/upload.cgi?get=01939\",\"sha256\"=>\"87be870762fb0ed832dc5ccf842ce33e8019564d35e904ec3d4a497663546c20\",\"comment\"=>\"乱打\",\"md5\"=>\"c80b46aad4650d02933ca4af53a0b010\",\"submission\"=>147,\"url\"=>\"http://www.dropbox.com/s/0kz7y0osqskqozk/%5BLR2%20Ranking%20FIXED%5DBlood%20Castle.zip\",\"proposer\"=>\"monaka\",\"artist\"=>\"Darkist/obj:YAN*TS vs C4\"…)                  \n",
       " Dict(\"proposer\"=>\"jhfdlkjd\",\"url_diff\"=>\"\",\"sha256\"=>\"05966925e322f737f765ff6784d1644201c7e10da6beeb34aa66fb6822cb449c\",\"md5\"=>\"b9e7e3c1d0f9e72f195bfe2e6f730616\",\"artist\"=>\"KB_Ondin / Tamago&WHO obj: CSM*\",\"title\"=>\"Chit-Chat [7Key Another]\",\"submission\"=>607,\"url\"=>\"https://drive.google.com/open?id=1udhgfNl15lIiFRtNqJFTHMCg_lbayEMk\",\"level\"=>\"0\")                                                                                 \n",
       " Dict(\"proposerLr2id\"=>83454,\"proposer\"=>\"rat\",\"url_diff\"=>\"\",\"sha256\"=>\"9ad6f3f0cd53e48ea2ec4a17848d1fba8b2c13805bec5859e2c0d5b5e6532b93\",\"md5\"=>\"55c7fbfff822d38cdd2fbf6d81520f37\",\"artist\"=>\"Flont Twiright\",\"title\"=>\"False Friend [ANOTHER]\",\"submission\"=>257,\"url\"=>\"https://mega.nz/#F!UFsB0YyB!kwwXNr3CgJq-FvL19myHcA\",\"level\"=>\"0\"…)                                                                                                 \n",
       " Dict(\"proposerLr2id\"=>128405,\"level\"=>\"0\",\"url_diff\"=>\"http://gnqg.rosx.net/upload/upload.cgi?get=02200\",\"sha256\"=>\"73795b87da2b0675dfe90f0008e93b55b94586d33695c8d15c9889274348ca18\",\"comment\"=>\"この曲からサテライト触り始めてくれたらうれしいなって\",\"md5\"=>\"28cdea0800cd82cc545dde6b1ef06a52\",\"submission\"=>8,\"url\"=>\"http://manbow.nothing.sh/event/event.cgi?action=More_def&num=389&event=116\",\"proposer\"=>\"SANY\",\"artist\"=>\"Silentroom × 駿 obj:ORE\"…)           \n",
       " Dict(\"proposerLr2id\"=>133436,\"level\"=>\"0\",\"url_diff\"=>\"\",\"sha256\"=>\"1477f8e564c7d087766346c4dd6d84090d39fe0db76660bf07a3161afd5d9538\",\"comment\"=>\"GOODCHART\",\"md5\"=>\"76b1a277369cb77868d1ec35d452a31f\",\"submission\"=>286,\"url\"=>\"http://manbow.nothing.sh/event/event.cgi?action=More_def&num=239&event=123\",\"proposer\"=>\"鷺沢文香\",\"artist\"=>\"EBIMAYO\"…)                                                                                         \n",
       " Dict(\"proposerLr2id\"=>84521,\"proposer\"=>\"selene.\",\"url_diff\"=>\"\",\"sha256\"=>\"f374709d3f9fa86d9d6cb65275d6bb80b52f640ecc930e9baac6bd429d5c9afe\",\"md5\"=>\"dd27ac7a5f59ccee1ebde67c1e52f6dd\",\"artist\"=>\"マフラーアカペンギン\",\"title\"=>\"Garefowl [Another]\",\"submission\"=>191,\"url\"=>\"http://manbow.nothing.sh/event/event.cgi?action=More_def&num=226&event=110\",\"level\"=>\"0\"…)                                                                             \n",
       " Dict(\"proposer\"=>\"SEUNGHO_LEE\",\"url_diff\"=>\"http://sdrv.ms/Krflnz\",\"sha256\"=>\"cd58cd5073a507b10293ad606daf3418c893e8852b2afa9e77dd2bcc90a61ecd\",\"md5\"=>\"72f6d513a7f399c1d63181e079a54ba6\",\"artist\"=>\"LhoU / MetaGalaxy / obj：のれぽん\",\"title\"=>\"Highlander [NORETHER]\",\"submission\"=>442,\"url\"=>\"https://mega.nz/#F!UFsB0YyB!kwwXNr3CgJq-FvL19myHcA?dIVCSALI\",\"level\"=>\"0\",\"comment\"=>\"乱打\"…)                                                     \n",
       " Dict(\"proposer\"=>\"Fendou\",\"url_diff\"=>\"\",\"sha256\"=>\"79f843c9c01d7ae546dcab53acefd02ce0e51be5c9a5b0e429ddf16290fccd76\",\"md5\"=>\"413f7ba663145dd7fc0e4422c9247d55\",\"artist\"=>\"Crimsona obj.B_K\",\"title\"=>\"Hyper Fiber World Spectrum [ANOTHER]\",\"submission\"=>739,\"url\"=>\"http://manbow.nothing.sh/event/event.cgi?action=More_def&num=59&event=110\",\"level\"=>\"0\",\"comment\"=>\"同捆谱面\"…)                                                            \n",
       " Dict(\"proposer\"=>\"ww\",\"url_diff\"=>\"http://akred.web.fc2.com/baecon/Juliet_oath.bme\",\"sha256\"=>\"bdc2dae0b90f7ffaea33a4de49abf8f2afd1eb284909b4036255175e6ab3f0fe\",\"md5\"=>\"8d016e50224f9d81f037f432905cd83e\",\"artist\"=>\"Aliesrite* (Ym1024 feat. lamie*) obj : BAECON\",\"title\"=>\"Juliet [oath]\",\"submission\"=>518,\"url\"=>\"http://manbow.nothing.sh/event/event.cgi?action=More_def&num=461&event=110\",\"level\"=>\"0\",\"comment\"=>\"BOFU2016, 同時押し\"…)\n",
       " Dict(\"proposer\"=>\"ww\",\"url_diff\"=>\"\",\"sha256\"=>\"12f88e86305154f148f62b2124bdf9ff2fbb414e34c994c1c6377b62b148b704\",\"md5\"=>\"4023045d9134dfc47e953bc430e5ef07\",\"artist\"=>\"Junk obj:kneas\",\"title\"=>\"Life is PIANO [Another]\",\"submission\"=>450,\"url\"=>\"http://www.junk-channel.com/junk_g2r2018_ogg.rar\",\"level\"=>\"0\")                                                                                                                           \n",
       " ⋮                                                                                                                                                                                                                                                                                                                                                                                                                                             \n",
       " Dict(\"proposerLr2id\"=>7290,\"proposer\"=>\"파이어\",\"url_diff\"=>\"https://www.hyper-laner.com/sabun.html\",\"sha256\"=>\"8c5f59bbda273ab90fbba23e69427b763d0c6d6b27dae92cc12403dabc510a40\",\"md5\"=>\"1c9c574853c87a09e03ee40d372ecc36\",\"artist\"=>\"maki / obj. hplaner vs. 関西マヨ会\",\"title\"=>\"sunken azure world [マヨマヨ]\",\"submission\"=>171,\"url\"=>\"http://aquaseeds.net/\",\"level\"=>\"12\"…)                                                                      \n",
       " Dict(\"proposer\"=>\"LUXURY♪\",\"url_diff\"=>\"http://www.hyper-laner.com/sabun.html\",\"sha256\"=>\"41479623c564f6bad01a32f51e1e889fcf42af5511f774181899fa40166b4f7c\",\"md5\"=>\"1d7a8c995ba28203d49e570426e7c662\",\"artist\"=>\"ブースター / obj. hplaner\",\"title\"=>\"tightrope city [taxy]\",\"submission\"=>389,\"url\"=>\"http://manbow.nothing.sh/event/event.cgi?action=More_def&num=19&event=65\",\"level\"=>\"12\")                                                    \n",
       " Dict(\"proposer\"=>\"qtp13\",\"url_diff\"=>\"http://akred.web.fc2.com/bmsfile/korosite-INFERNOf.bme\",\"sha256\"=>\"20cc5348c31b9552a459c0dd3913aeb790b388b3aa6e63a9adbde8d23981474d\",\"md5\"=>\"51f9ce87e4a377f8009315568af297a2\",\"artist\"=>\"LUNEの右手と悠里おねぇちゃんの左脚 /差分　赤い人\",\"title\"=>\"どうか私を殺して下さい [INFERNO]\",\"submission\"=>708,\"url\"=>\"http://rin.s101.xrea.com/\",\"level\"=>\"12\",\"comment\"=>\"please kill me...\"…)                                             \n",
       " Dict(\"proposer\"=>\"rat\",\"url_diff\"=>\"\",\"sha256\"=>\"afd38186e7221124c7e774e599266b2a17b95f0a78409aa86f2d1451daa9b7f1\",\"md5\"=>\"dfcfdc70a61290f57b768ef1a2ad6aac\",\"artist\"=>\"hugepulse obj.qfeileadh\",\"title\"=>\"クォークの海を泳いで [SP NEUTRINO]\",\"submission\"=>727,\"url\"=>\"http://manbow.nothing.sh/event/event.cgi?action=More_def&num=28&event=121\",\"level\"=>\"12\",\"comment\"=>\"軸、乱打、高速\"…)                                                                \n",
       " Dict(\"proposer\"=>\"LUXURY♪\",\"url_diff\"=>\"\",\"sha256\"=>\"4db002099cdf389df64e85e80ea280767ab48b44408cc5a8f58138fa4219df87\",\"md5\"=>\"c7f384d33fd08da0fda97112354a834c\",\"artist\"=>\"11.Soccer Team\",\"title\"=>\"ドキッ！けふぃーとひ・み・つｖのサッカータイム☆☆ニャホニャホしても、いいんですよ･･･？　 ～KEFIFAワールドカップ編 We love 汚滝健太郎～\",\"submission\"=>387,\"url\"=>\"http://manbow.nothing.sh/event/event.cgi?action=More_def&num=600&event=110\",\"level\"=>\"12\")                                     \n",
       " Dict(\"proposerLr2id\"=>84597,\"level\"=>\"12\",\"url_diff\"=>\"\",\"sha256\"=>\"64d660d736f89296a97c7c510412735a153b4d8fc9811392b7cacce10125be1a\",\"comment\"=>\"連打\",\"md5\"=>\"b2d0911f389aab92b4f7b0ff5ca345e0\",\"submission\"=>192,\"url\"=>\"http://manbow.nothing.sh/event/event.cgi?action=More_def&num=3&event=120\",\"proposer\"=>\"MineC24\",\"artist\"=>\"sak feat.みゅい BGI:球根\"…)                                                                                   \n",
       " Dict(\"proposer\"=>\"qtp13\",\"url_diff\"=>\"http://akred.web.fc2.com/bmsfile/_7keys3qbtherf.bms\",\"sha256\"=>\"8b2f854a302486c76b0f552c02078ed11bca1344073ab43ff423f5e1562876b6\",\"md5\"=>\"387808dd59ddd66ec7c3660889c42ba1\",\"artist\"=>\"鹿目まどか /差分　赤い人 佐倉杏子\",\"title\"=>\"円環の理 [ＱＢTHER]\",\"submission\"=>438,\"url\"=>\"http://3t1a.net/bms/madoka_kaname_ogg.zip \",\"level\"=>\"12\",\"comment\"=>\"私、魔法少女になる\"…)                                                        \n",
       " Dict(\"proposer\"=>\"LUXURY♪\",\"url_diff\"=>\"http://gnqg.rosx.net/upload/upload.cgi?get=01135\",\"sha256\"=>\"1149012de7db3d7c5d1e867616cd437e650a4314dcab84f08bce2526141272f1\",\"md5\"=>\"b57e7f1bdca974cd00379e3d1cf84504\",\"artist\"=>\"BMS: Nego_tiator / Movie: Fiz OBJ : ランダマイザ\",\"title\"=>\"夢/あるいは在りし日の ［usual days'］\",\"submission\"=>390,\"url\"=>\"http://manbow.nothing.sh/event/event.cgi?action=More_def&num=8&event=116\",\"level\"=>\"12\")               \n",
       " Dict(\"proposerLr2id\"=>80964,\"level\"=>\"12\",\"url_diff\"=>\"http://gnqg.rosx.net/upload/upload.cgi?get=01222\",\"sha256\"=>\"fc435a7ef262ae1371d118c8b472ae1394ceed044d1949891bd241e788b8a6b1\",\"comment\"=>\"サテライトユニオン\",\"md5\"=>\"6a631229fb332f69cc97b12c87991f34\",\"submission\"=>177,\"url\"=>\"http://manbow.nothing.sh/event/event.cgi?action=More_def&num=432&event=116\",\"proposer\"=>\"こめっと\",\"artist\"=>\"LiA / obj.swa BGA:Milk_tya / Illust:hrchem\"…)      \n",
       " Dict(\"proposerLr2id\"=>112172,\"level\"=>\"12\",\"url_diff\"=>\"http://yumerusabun.web.fc2.com/nue.html\",\"sha256\"=>\"249bcf45f120649a690eb61be55ea37f5876b0b6ff5862f25f773a28122f2d91\",\"comment\"=>\"同時押し\",\"md5\"=>\"687a49d3b6d25d8fac7b7879515ae83b\",\"submission\"=>17,\"url\"=>\"http://manbow.nothing.sh/event/event.cgi?action=More_def&num=381&event=83\",\"proposer\"=>\"w2w2\",\"artist\"=>\"イヴ / obj:夢瑠\"…)                                                    \n",
       " Dict(\"proposerLr2id\"=>7290,\"level\"=>\"12\",\"url_diff\"=>\"http://akred.web.fc2.com/baecon/orihime-EX-.bms\",\"sha256\"=>\"62711631085fed6065f0ae5e6a1f474473deb7ab33b988038feeaf54e0336604\",\"comment\"=>\"\",\"md5\"=>\"12fbbbc30ea8fbe85c3a27ad35eed419\",\"submission\"=>30,\"url\"=>\"http://djtakuan.sp.land.to/\",\"proposer\"=>\"파이어\",\"artist\"=>\"DJ TAKUAN 及び 佐倉アヤキ 　及　び obj:BAECON\"…)                                                                          \n",
       " Dict(\"proposer\"=>\"turtle\",\"url_diff\"=>\"http://sabosabun.tank.jp/\",\"sha256\"=>\"2014af723d742016884d9d7459e0b0914d0657e1108c49598e35c75042afd4b6\",\"md5\"=>\"a3053a25cb3c319260188fff4d006350\",\"artist\"=>\"Hidingpast/さ\",\"title\"=>\"非徘徊主義 (-ω-)\",\"submission\"=>517,\"url\"=>\"https://web.archive.org/web/20160331123858/http://nextreflection.net/hihaikai.html\",\"level\"=>\"12\",\"comment\"=>\"体力\"…)                                                        "
      ]
     },
     "execution_count": 1,
     "metadata": {},
     "output_type": "execute_result"
    }
   ],
   "source": [
    "using HTTP, JSON\n",
    "slst = Dict{String,Any}()\n",
    "\n",
    "rsl = String( HTTP.request(\"GET\", \"https://lite.stellabms.xyz/score.json\").body )\n",
    "sl = JSON.parse(rsl)\n",
    "map(x -> slst[x[\"md5\"]] = x, sl)"
   ]
  },
  {
   "cell_type": "code",
   "execution_count": 2,
   "metadata": {},
   "outputs": [
    {
     "data": {
      "text/plain": [
       "636-element Array{Dict{String,Any},1}:\n",
       " Dict(\"proposerLr2id\"=>7290,\"proposer\"=>\"파이어\",\"url_diff\"=>\"http://akred.web.fc2.com/bmsfile/Addiction_INFERNO.bms\",\"sha256\"=>\"9281b9d91c17b92420bfe8ebb67fe5e990b1dcfec58a3e8f7a7cb9c81e8e1b61\",\"md5\"=>\"a35134b89ac127ad89b96169828ed1e7\",\"artist\"=>\"- 4 5 /obj:赤い人\",\"title\"=>\"A D D i c T i O N 4 5 0 0 0 0 0 [INFERNO]\",\"submission\"=>628,\"url\"=>\"http://manbow.nothing.sh/event/event.cgi?action=More_def&num=121&event=116\",\"level\"=>\"0\"…)                             \n",
       " Dict(\"proposerLr2id\"=>7290,\"proposer\"=>\"파이어\",\"url_diff\"=>\"http://absolute.pv.land.to/uploader/src/up5695.zip\",\"sha256\"=>\"2e2bb2242f7a779a7fce25c14dbcb8b5c0eb0d4da561f0faaf990277a808b12b\",\"md5\"=>\"f6eff5cce175bdad4f7eec7815d2d23b\",\"artist\"=>\"uma obj:kinoko\",\"title\"=>\"Angel Wing [LEGEND]\",\"submission\"=>788,\"url\"=>\"http://manbow.nothing.sh/event/event.cgi?action=More_def&num=123&event=96\",\"level\"=>\"0\"…)                                                        \n",
       " Dict(\"proposerLr2id\"=>23110,\"proposer\"=>\"LUXURY♪\",\"url_diff\"=>\"http://akred.web.fc2.com/bmsfile/babylon-HARDEST.bme\",\"sha256\"=>\"80c642a2fbbfdba1dc10da64237fd5032bd4a288a5f7b0c9320e7108b496239d\",\"md5\"=>\"861f79fe77016605f1aa3cdcd47988c8\",\"artist\"=>\"SHIKI / 差分 赤い人\",\"title\"=>\"BABYLON [HARDEST]\",\"submission\"=>666,\"url\"=>\"http://shiki2.sakura.ne.jp/fohs.html\",\"level\"=>\"0\"…)                                                                                        \n",
       " Dict(\"proposer\"=>\"MineC24\",\"url_diff\"=>\"\",\"sha256\"=>\"f4c1113a2f8a6842c516767733bef6844f8142c5c8e96bfc885b325a0fe114c2\",\"md5\"=>\"cada54582f85645b79b99e38298fbb4b\",\"artist\"=>\"ZUN remixed by LeaF Movie:Optie\",\"title\"=>\"Calamity Fortune [SERPENT]\",\"submission\"=>418,\"url\"=>\"http://yaruki0.sakura.ne.jp/event/ondanyugi5/impression.cgi?no=45\",\"level\"=>\"0\",\"comment\"=>\"楽しい\"…)                                                                                           \n",
       " Dict(\"proposer\"=>\"Leva\",\"url_diff\"=>\"http://gnqg.rosx.net/upload/upload.cgi?get=00542\",\"sha256\"=>\"3877d2c3a9598b7172a7b3b4c10ab58734add0e29ae3979fe25f126478dba003\",\"md5\"=>\"5f0721d70d8e107734a042a7f277e233\",\"artist\"=>\"Lime / inukoro obj:zukocchi\",\"title\"=>\"Chronomia [Presea]\",\"submission\"=>128,\"url\"=>\"http://manbow.nothing.sh/event/event.cgi?action=More_def&num=550&event=110\",\"level\"=>\"0\",\"comment\"=>\"高速\"…)                                                  \n",
       " Dict(\"proposer\"=>\"Tristan97\",\"url_diff\"=>\"https://drive.google.com/open?id=1nuNmrK5syjUcX06YI2pwg-EW51MniHz5\",\"sha256\"=>\"276f64485df3a742082f4c7650e7b2170775a7b6c55c2e7a45508cdead2c078b\",\"md5\"=>\"cbcf5a8b7c7b92f5af53f4702286872d\",\"artist\"=>\"Qga / obj. Tristan97\",\"title\"=>\"CyberGarden -Digital Butterfly-\",\"submission\"=>827,\"url\"=>\"https://www.dropbox.com/s/58ne74c49kw1vb7/Cybergarden.zip?dl=1\",\"level\"=>\"0\",\"comment\"=>\"very easy on easy gauge.... ~st0-1?\"…)\n",
       " Dict(\"proposerLr2id\"=>84597,\"level\"=>\"0\",\"url_diff\"=>\"https://www.dropbox.com/s/lrn0v48q39sdpcq/7keyderay.bms?dl=0\",\"sha256\"=>\"ccfe05798b1d4f0ac6ff0f619ea70cae6f33a1f411a5526ba3377a10fa892aa8\",\"comment\"=>\"DRAGONDERAY\",\"md5\"=>\"3bc50ae766596c725d4aad5db93968a0\",\"submission\"=>695,\"url\"=>\"http://nonona.iptime.org/BMS_Library/DRAGONLADY%20%5bHAPPY%5d.rar\",\"proposer\"=>\"MineC24\",\"artist\"=>\"Nankumo / BGA：Cube3 / obj：LeaF\"…)                                       \n",
       " Dict(\"proposerLr2id\"=>23110,\"level\"=>\"0\",\"url_diff\"=>\"http://akred.web.fc2.com/bmsfile/Elina-INFERNO.bms\",\"sha256\"=>\"50c8e58893522a7d08a9d3eb3ceecc6b76fe26fd5ae66b3b63f952b9a1a3e555\",\"comment\"=>\"物量\",\"md5\"=>\"baee0a1921fc5041b44d7d87c7b5548d\",\"submission\"=>507,\"url\"=>\"https://mega.nz/#F!UFsB0YyB!kwwXNr3CgJq-FvL19myHcA!UB8gABwB\",\"proposer\"=>\"LUXURY♪\",\"artist\"=>\"Squar / 差分 赤い人\"…)                                                                                \n",
       " Dict(\"proposer\"=>\"LUXURY\",\"url_diff\"=>\"http://www.ribbit.xyz/bms/tables/bmsuploader.html\",\"sha256\"=>\"f97a20e6810b483ac9f418ee766cdb30fcd81d190f34ae82beeb33304382a911\",\"md5\"=>\"e7e922d2a22ebb9add14bb97b2ee04e6\",\"artist\"=>\"Cres / ALICE*\",\"title\"=>\"End Time [ALITHER]\",\"submission\"=>359,\"url\"=>\"https://mega.nz/#F!UFsB0YyB!kwwXNr3CgJq-FvL19myHcA\",\"level\"=>\"0\",\"comment\"=>\"up0685\"…)                                                                                 \n",
       " Dict(\"proposer\"=>\"LUXURY♪\",\"url_diff\"=>\"http://gnqg.rosx.net/upload/upload.cgi?get=01312\",\"sha256\"=>\"c8b50335450ec660f885a005d279a085d05be4d658dd5c4dfc10faa983deb60b\",\"md5\"=>\"6dd9acd5c37cc98299b3dc48ef18ce84\",\"artist\"=>\"Silentroom × iimo / selene.\",\"title\"=>\"Finixe -Eclipse-\",\"submission\"=>851,\"url\"=>\"http://manbow.nothing.sh/event/event.cgi?action=More_def&num=349&event=116\",\"level\"=>\"0\")                                                                  \n",
       " Dict(\"proposer\"=>\"rat\",\"url_diff\"=>\"\",\"sha256\"=>\"e757d10e2fe8f753028bee06dc77247e9d1e3e2629d4c19cf76c60cd0ece1724\",\"md5\"=>\"15884a34d21ebcdf55d9924f2e640a10\",\"artist\"=>\"Yu^ta\",\"title\"=>\"GREENS 2012 [Real Dark Matter]\",\"submission\"=>280,\"url\"=>\"http://yuinore.net/2017/02/smc-package/\",\"level\"=>\"0\",\"comment\"=>\"デニムとちょっとLN\"…)                                                                                                                                        \n",
       " Dict(\"proposer\"=>\"LUXURY♪\",\"url_diff\"=>\"http://akred.web.fc2.com/bmsfile/IKAROS_INFERNO.bme\",\"sha256\"=>\"a5e79ea3a79071b188b7f4e135510cf2678849008c8aecee0e251f7adec40858\",\"md5\"=>\"d489604cd5e1859b7b11318e2a19ca54\",\"artist\"=>\"ETIA. feat. Jenga Movie: HDLV/obj:赤い人\",\"title\"=>\"IKAROS [INFERNO]\",\"submission\"=>892,\"url\"=>\"http://manbow.nothing.sh/event/event.cgi?action=More_def&num=2&event=110\",\"level\"=>\"0\",\"comment\"=>\"sl12\"…)                                    \n",
       " Dict(\"proposer\"=>\"Aspidiske\",\"url_diff\"=>\"http://akred.web.fc2.com/baecon/_QED.bme\",\"sha256\"=>\"67deddf850dcc6cc0d231050352af7c1008d072641f7d1c9840f079d1332051b\",\"md5\"=>\"82a4a4d9a37c1b0fa553ad2c9e3b56df\",\"artist\"=>\"ETIA. feat. Jenga Movie: HDLV / obj : BAECON vs Lapis\",\"title\"=>\"IKAROS [Q.E.D.]\",\"submission\"=>248,\"url\"=>\"http://manbow.nothing.sh/event/event.cgi?action=More_def&num=2&event=110\",\"level\"=>\"0\",\"comment\"=>\"\"…)                                  \n",
       " ⋮                                                                                                                                                                                                                                                                                                                                                                                                                                                                         \n",
       " Dict(\"proposer\"=>\"sak\",\"url_diff\"=>\"\",\"sha256\"=>\"edf564769772898fec2d4ad1582d7381ae08c951e988d78060cfeddf4bc7ab5b\",\"md5\"=>\"f045fc80eec111998ed6675e4549f42b\",\"artist\"=>\"さかみりと img:しぐれぷに子\",\"title\"=>\"八大地獄邪魂転生狂葬散火歌 [亜那坐阿]\",\"submission\"=>39,\"url\"=>\"http://manbow.nothing.sh/event/event.cgi?action=More_def&num=35&event=116\",\"level\"=>\"10\",\"comment\"=>\"\"…)                                                                                                               \n",
       " Dict(\"proposer\"=>\"sak\",\"url_diff\"=>\"http://3228monsta.web.fc2.com/\",\"sha256\"=>\"e9e91743a218722afffa29131ceb6650395833d9cc479640667e15a2e540403b\",\"md5\"=>\"437a833e39817d0aea49336c8d49542d\",\"artist\"=>\"Rocky / obj:Monsta\",\"title\"=>\"多重極展開 -極-\",\"submission\"=>179,\"url\"=>\"http://manbow.nothing.sh/event/event.cgi?action=More_def&num=62&event=88\",\"level\"=>\"10\",\"comment\"=>\"ガチ押し 低トータル\"…)                                                                                \n",
       " Dict(\"proposer\"=>\"LUXURY\",\"url_diff\"=>\"http://3228monsta.web.fc2.com/\",\"sha256\"=>\"1f30f7c9389a6603e41fc2dce10bd934d945162418c39c6be22959bed0a03304\",\"md5\"=>\"cd806cc543f424d2f4f43f0d5313ca1e\",\"artist\"=>\"椎名まゆり / obj:Monsta\",\"title\"=>\"星屑アポトーシス\",\"submission\"=>273,\"url\"=>\"https://www.dropbox.com/s/8k9jv25hpd9u42n/%E6%98%9F%E5%B1%91%E3%82%A2%E3%83%9D%E3%83%88%E3%83%BC%E3%82%B7%E3%82%B9.zip?dl=0\",\"level\"=>\"10\",\"comment\"=>\"ガチ押し\"…)                                 \n",
       " Dict(\"proposer\"=>\"双六\",\"url_diff\"=>\"http://3228monsta.web.fc2.com/\",\"sha256\"=>\"a86474bcf3e7686abf8011c8f7103ad418afa99bcda4029dd2127753cbd72144\",\"md5\"=>\"ea78eece8c6a01ff9ac2061b35fca615\",\"artist\"=>\"2TORI obj:Monsta\",\"title\"=>\"飛燕草\",\"submission\"=>40,\"url\"=>\"http://manbow.nothing.sh/event/event.cgi?action=More_def&num=23&event=63\",\"level\"=>\"10\",\"comment\"=>\"\"…)                                                                                                    \n",
       " Dict(\"proposer\"=>\"LUXURY\",\"url_diff\"=>\"http://gnqg.rosx.net/upload/upload.cgi?get=01680\",\"sha256\"=>\"45387dc82166c059e21d6d23226b972cbde09a5f48fd659de0332b23f6245f90\",\"md5\"=>\"22f71b0463955fcedb84eca9d09e60ca\",\"artist\"=>\"nmk / わっふゑ obj:Omino\",\"title\"=>\"Celestial Axes [Other]\",\"submission\"=>308,\"url\"=>\"http://manbow.nothing.sh/event/event.cgi?action=More_def&num=2&event=119\",\"level\"=>\"11\",\"comment\"=>\"地力地力地力地力地力地力地力\"…)                                        \n",
       " Dict(\"proposer\"=>\"KIYOM\",\"url_diff\"=>\"http://gnqg.rosx.net/upload/upload.cgi?get=01483\",\"sha256\"=>\"416d15f2f44af00593c98005c469bb2a3a6b5072563a817732acff689a2148f8\",\"md5\"=>\"2c61b055ab4a80c60786f705d168de45\",\"artist\"=>\"有賀 澪 BGA:しらたき Illust:Cleome obj: qtp13\",\"title\"=>\"Defeat awaken battle ship (SP DESTROYER)\",\"submission\"=>430,\"url\"=>\"http://manbow.nothing.sh/event/event.cgi?action=More_def&num=1&event=112\",\"level\"=>\"11\",\"comment\"=>\"CYCLONEリスペクト\"…)       \n",
       " Dict(\"proposer\"=>\"firi.\",\"url_diff\"=>\"http://web.archive.org/web/20150627023157/http://page.freett.com/mooooooop/index.htm\",\"sha256\"=>\"6a6d8567eae53a55e69e959c84a44a879f651c3de7d3fc17440503fcf2cb00a0\",\"md5\"=>\"8fdd4ffb45d79ef2e713a01abc9a08c3\",\"artist\"=>\"keyc obj:mfmf\",\"title\"=>\"Dusk Recapture [AB]\",\"submission\"=>36,\"url\"=>\"http://www.geocities.jp/bmsetc/\",\"level\"=>\"11\",\"comment\"=>\"\"…)                                                                       \n",
       " Dict(\"proposerLr2id\"=>7290,\"proposer\"=>\"파이어\",\"url_diff\"=>\"http://www.geocities.jp/dsks5456/hyou.html\",\"sha256\"=>\"274628f4615e241d3a626664fc09eba53fbfd64b7449520525a27ae7a06111df\",\"md5\"=>\"3d69ee79e514d9805dd4f3b64d7990a0\",\"artist\"=>\"UnknownX (ZUN Remixed by rider obj:Unknown37E)\",\"title\"=>\"Glantz+\",\"submission\"=>766,\"url\"=>\"http://nekonotsuka.com/?page_id=14\",\"level\"=>\"11\"…)                                                                                  \n",
       " Dict(\"proposerLr2id\"=>86559,\"level\"=>\"11\",\"url_diff\"=>\"http://obj42.web.fc2.com/ \",\"sha256\"=>\"553c6d4e3fc82bc9fe54a8992a7d744e69f7ec1e1a971cfbca3d8206ddb15086\",\"comment\"=>\"Delay Breaker\",\"md5\"=>\"45b1bff2a54e2cb1bab20449c5a7c7f3\",\"submission\"=>729,\"url\"=>\"http://www.geocities.jp/bmsetc/\",\"proposer\"=>\"qtp13\",\"artist\"=>\"Omnipotenx obj:42\"…)                                                                                                                       \n",
       " Dict(\"proposer\"=>\"LUXURY\",\"url_diff\"=>\"http://gnqg.rosx.net/upload/upload.cgi?get=01662\",\"sha256\"=>\"b642df09d050b5dc3b63e18935e22ff6a3cf9f003d18d705f2b5410b33b9900a\",\"md5\"=>\"17feecd94600b5eb6e6c30e90cc48353\",\"artist\"=>\"ROKINA obj:homare\",\"title\"=>\"Schwerkraft [Dioga Gravidon]\",\"submission\"=>307,\"url\"=>\"http://manbow.nothing.sh/event/event.cgi?action=More_def&num=263&event=110\",\"level\"=>\"11\",\"comment\"=>\"無限ディレイ\"…)                                           \n",
       " Dict(\"proposer\"=>\"双六\",\"url_diff\"=>\"http://gnqg.rosx.net/upload/\",\"sha256\"=>\"de6d919242b72f2bfd7872c2a82498f1ede7d895eb7b348f1e96f39be0eb38f9\",\"md5\"=>\"8d9f4e2a5d0b87a03986fd96bc085c63\",\"artist\"=>\"Is-m/obj:??? BGA:sta\",\"title\"=>\"dimension block -SP CRAZY-\",\"submission\"=>391,\"url\"=>\"http://www.is-m.jp/bms/song/em39.html\",\"level\"=>\"11\",\"comment\"=>\"ガチ押し\"…)                                                                                                         \n",
       " Dict(\"proposer\"=>\"ZEUS\",\"url_diff\"=>\"http://absolute.pv.land.to/uploader/src/up5693.rar\",\"sha256\"=>\"1742be365e481e19110a67e60b89d78bdcdfba9e1735fe97d33024cf8a408f5a\",\"md5\"=>\"c9bb605b537f0a739c26a2a4890e2dac\",\"artist\"=>\"ねこみりん feat.小宮真央×みゆ×えみゅう。 Movie:kkkfff2 / Illust:永山ゆうのん obj.綾地寧々\",\"title\"=>\"オトゲラヴ！ [初回限定版豪華三大特典付]\",\"submission\"=>287,\"url\"=>\"http://manbow.nothing.sh/event/event.cgi?action=More_def&num=201&event=96\",\"level\"=>\"11\",\"comment\"=>\"\"…)           "
      ]
     },
     "execution_count": 2,
     "metadata": {},
     "output_type": "execute_result"
    }
   ],
   "source": [
    "rst = String( HTTP.request(\"GET\", \"https://stellabms.xyz/score.json\").body )\n",
    "st = JSON.parse(rst)\n",
    "map(x -> slst[x[\"md5\"]] = x, st)"
   ]
  },
  {
   "cell_type": "code",
   "execution_count": 3,
   "metadata": {},
   "outputs": [],
   "source": [
    "# geno = Dict{String,Any}()\n",
    "\n",
    "# genr = String( HTTP.request(\"GET\", \"http://walkure.net/hakkyou/for_glassist/bms/data_json.cgi?lamp=easy&min=-2.0&max=28.0&step_count=300\").body )\n",
    "# genjson = JSON.parse(genr)\n",
    "# for ar in genjson\n",
    "#     if ar[\"level\"] == \"-\"\n",
    "#         continue\n",
    "#     end\n",
    "#     geno[ar[\"md5\"]] = Dict(\"level\" => parse(Float64, split(ar[\"level\"],\"...\")[1]), \"title\" => ar[\"title\"])\n",
    "# end\n"
   ]
  },
  {
   "cell_type": "code",
   "execution_count": 4,
   "metadata": {},
   "outputs": [],
   "source": [
    "# for (md5,v) in geno\n",
    "#     if haskey(slst, md5)\n",
    "#         println(v[\"level\"],\" \", slst[md5][\"level\"],\"   \", v[\"title\"])\n",
    "#     end\n",
    "# end"
   ]
  },
  {
   "cell_type": "code",
   "execution_count": 5,
   "metadata": {},
   "outputs": [],
   "source": [
    "leveljson = HTTP.request(\"GET\", \"https://omi-key.github.io/BMS_Integration/levelmod.json\").body |> String |> JSON.parse\n",
    "levelmod = Dict{String,Any}()\n",
    "\n",
    "map(x -> levelmod[x[\"md5\"]] = x, leveljson)\n",
    "for (md5, s) in slst\n",
    "    if !haskey(levelmod, md5)\n",
    "        s[\"raw\"] = \"-\"\n",
    "        levelmod[md5] = s\n",
    "    end\n",
    "end"
   ]
  },
  {
   "cell_type": "code",
   "execution_count": 6,
   "metadata": {},
   "outputs": [
    {
     "name": "stdout",
     "output_type": "stream",
     "text": [
      "(out_integ |> size, leveljson |> size) = ((2472,), (2472,))\n"
     ]
    },
    {
     "data": {
      "text/plain": [
       "266566"
      ]
     },
     "execution_count": 6,
     "metadata": {},
     "output_type": "execute_result"
    }
   ],
   "source": [
    "out_integ = levelmod |> values |> collect\n",
    "\n",
    "@show out_integ |> size, leveljson |> size\n",
    "\n",
    "output = open(\"levelmod.json\", \"w\")\n",
    "outst = JSON.json(out_integ)\n",
    "write(output, outst)"
   ]
  },
  {
   "cell_type": "code",
   "execution_count": null,
   "metadata": {},
   "outputs": [],
   "source": []
  }
 ],
 "metadata": {
  "kernelspec": {
   "display_name": "Julia 1.0.1",
   "language": "julia",
   "name": "julia-1.0"
  },
  "language_info": {
   "file_extension": ".jl",
   "mimetype": "application/julia",
   "name": "julia",
   "version": "1.1.0"
  }
 },
 "nbformat": 4,
 "nbformat_minor": 2
}
